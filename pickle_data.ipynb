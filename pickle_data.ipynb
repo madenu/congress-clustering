{
 "cells": [
  {
   "cell_type": "code",
   "execution_count": 3,
   "metadata": {},
   "outputs": [],
   "source": [
    "import pandas as pd\n",
    "import sklearn as sk\n",
    "import requests as req\n",
    "import pickle\n",
    "\n",
    "LIST_REPRESENTATIVES = 'https://api.propublica.org/congress/v1/116/house/members.json'\n",
    "LIST_SENATORS = 'https://api.propublica.org/congress/v1/116/senate/members.json'\n",
    "\n",
    "with open('API-KEY') as f:\n",
    "    api_key = f.readline().strip()\n",
    "\n",
    "headers = {'X-API-Key': api_key}\n",
    "house_json = req.get(LIST_REPRESENTATIVES, headers=headers).json()\n",
    "senate_json = req.get(LIST_SENATORS, headers=headers).json()\n",
    "\n",
    "reps = house_json['results'].pop()['members']\n",
    "sens = senate_json['results'].pop()['members']\n",
    "\n",
    "with open('representatives.pkl', 'wb+') as f: \n",
    "    pickle.dump(reps, f)\n",
    "    \n",
    "with open('senators.pkl', 'wb+') as f: \n",
    "    pickle.dump(sens, f)"
   ]
  },
  {
   "cell_type": "code",
   "execution_count": null,
   "metadata": {},
   "outputs": [],
   "source": []
  }
 ],
 "metadata": {
  "kernelspec": {
   "display_name": "Python 3",
   "language": "python",
   "name": "python3"
  },
  "language_info": {
   "codemirror_mode": {
    "name": "ipython",
    "version": 3
   },
   "file_extension": ".py",
   "mimetype": "text/x-python",
   "name": "python",
   "nbconvert_exporter": "python",
   "pygments_lexer": "ipython3",
   "version": "3.7.6"
  }
 },
 "nbformat": 4,
 "nbformat_minor": 4
}
