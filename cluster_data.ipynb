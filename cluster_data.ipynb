{
 "cells": [
  {
   "cell_type": "markdown",
   "metadata": {},
   "source": [
    "# Congress Clustering"
   ]
  },
  {
   "cell_type": "markdown",
   "metadata": {},
   "source": [
    "Create a dataset from the ProPublica JSON API response."
   ]
  },
  {
   "cell_type": "code",
   "execution_count": 1,
   "metadata": {},
   "outputs": [
    {
     "data": {
      "text/html": [
       "<div>\n",
       "<style scoped>\n",
       "    .dataframe tbody tr th:only-of-type {\n",
       "        vertical-align: middle;\n",
       "    }\n",
       "\n",
       "    .dataframe tbody tr th {\n",
       "        vertical-align: top;\n",
       "    }\n",
       "\n",
       "    .dataframe thead th {\n",
       "        text-align: right;\n",
       "    }\n",
       "</style>\n",
       "<table border=\"1\" class=\"dataframe\">\n",
       "  <thead>\n",
       "    <tr style=\"text-align: right;\">\n",
       "      <th></th>\n",
       "      <th>dw_nominate</th>\n",
       "      <th>seniority</th>\n",
       "      <th>total_votes</th>\n",
       "      <th>missed_votes</th>\n",
       "      <th>total_present</th>\n",
       "      <th>missed_votes_pct</th>\n",
       "      <th>votes_with_party_pct</th>\n",
       "      <th>votes_against_party_pct</th>\n",
       "      <th>chamber</th>\n",
       "      <th>democrat</th>\n",
       "      <th>independent</th>\n",
       "      <th>republican</th>\n",
       "      <th>gender</th>\n",
       "      <th>date_of_birth</th>\n",
       "    </tr>\n",
       "    <tr>\n",
       "      <th>id</th>\n",
       "      <th></th>\n",
       "      <th></th>\n",
       "      <th></th>\n",
       "      <th></th>\n",
       "      <th></th>\n",
       "      <th></th>\n",
       "      <th></th>\n",
       "      <th></th>\n",
       "      <th></th>\n",
       "      <th></th>\n",
       "      <th></th>\n",
       "      <th></th>\n",
       "      <th></th>\n",
       "      <th></th>\n",
       "    </tr>\n",
       "  </thead>\n",
       "  <tbody>\n",
       "    <tr>\n",
       "      <th>A000374</th>\n",
       "      <td>0.540</td>\n",
       "      <td>6.0</td>\n",
       "      <td>879.0</td>\n",
       "      <td>312.0</td>\n",
       "      <td>0.0</td>\n",
       "      <td>35.49</td>\n",
       "      <td>94.84</td>\n",
       "      <td>4.98</td>\n",
       "      <td>0.0</td>\n",
       "      <td>0.0</td>\n",
       "      <td>0.0</td>\n",
       "      <td>1.0</td>\n",
       "      <td>1.0</td>\n",
       "      <td>1954.0</td>\n",
       "    </tr>\n",
       "    <tr>\n",
       "      <th>A000370</th>\n",
       "      <td>-0.465</td>\n",
       "      <td>8.0</td>\n",
       "      <td>879.0</td>\n",
       "      <td>26.0</td>\n",
       "      <td>0.0</td>\n",
       "      <td>2.96</td>\n",
       "      <td>99.18</td>\n",
       "      <td>0.71</td>\n",
       "      <td>0.0</td>\n",
       "      <td>1.0</td>\n",
       "      <td>0.0</td>\n",
       "      <td>0.0</td>\n",
       "      <td>0.0</td>\n",
       "      <td>1946.0</td>\n",
       "    </tr>\n",
       "    <tr>\n",
       "      <th>A000055</th>\n",
       "      <td>0.368</td>\n",
       "      <td>24.0</td>\n",
       "      <td>879.0</td>\n",
       "      <td>41.0</td>\n",
       "      <td>0.0</td>\n",
       "      <td>4.66</td>\n",
       "      <td>93.50</td>\n",
       "      <td>6.38</td>\n",
       "      <td>0.0</td>\n",
       "      <td>0.0</td>\n",
       "      <td>0.0</td>\n",
       "      <td>1.0</td>\n",
       "      <td>1.0</td>\n",
       "      <td>1965.0</td>\n",
       "    </tr>\n",
       "    <tr>\n",
       "      <th>A000371</th>\n",
       "      <td>-0.291</td>\n",
       "      <td>6.0</td>\n",
       "      <td>879.0</td>\n",
       "      <td>8.0</td>\n",
       "      <td>0.0</td>\n",
       "      <td>0.91</td>\n",
       "      <td>97.24</td>\n",
       "      <td>2.65</td>\n",
       "      <td>0.0</td>\n",
       "      <td>1.0</td>\n",
       "      <td>0.0</td>\n",
       "      <td>0.0</td>\n",
       "      <td>1.0</td>\n",
       "      <td>1979.0</td>\n",
       "    </tr>\n",
       "    <tr>\n",
       "      <th>A000372</th>\n",
       "      <td>0.678</td>\n",
       "      <td>6.0</td>\n",
       "      <td>879.0</td>\n",
       "      <td>2.0</td>\n",
       "      <td>0.0</td>\n",
       "      <td>0.23</td>\n",
       "      <td>92.29</td>\n",
       "      <td>7.59</td>\n",
       "      <td>0.0</td>\n",
       "      <td>0.0</td>\n",
       "      <td>0.0</td>\n",
       "      <td>1.0</td>\n",
       "      <td>1.0</td>\n",
       "      <td>1951.0</td>\n",
       "    </tr>\n",
       "    <tr>\n",
       "      <th>...</th>\n",
       "      <td>...</td>\n",
       "      <td>...</td>\n",
       "      <td>...</td>\n",
       "      <td>...</td>\n",
       "      <td>...</td>\n",
       "      <td>...</td>\n",
       "      <td>...</td>\n",
       "      <td>...</td>\n",
       "      <td>...</td>\n",
       "      <td>...</td>\n",
       "      <td>...</td>\n",
       "      <td>...</td>\n",
       "      <td>...</td>\n",
       "      <td>...</td>\n",
       "    </tr>\n",
       "    <tr>\n",
       "      <th>W000817</th>\n",
       "      <td>-0.769</td>\n",
       "      <td>7.0</td>\n",
       "      <td>580.0</td>\n",
       "      <td>275.0</td>\n",
       "      <td>1.0</td>\n",
       "      <td>47.41</td>\n",
       "      <td>77.78</td>\n",
       "      <td>22.22</td>\n",
       "      <td>1.0</td>\n",
       "      <td>1.0</td>\n",
       "      <td>0.0</td>\n",
       "      <td>0.0</td>\n",
       "      <td>0.0</td>\n",
       "      <td>1949.0</td>\n",
       "    </tr>\n",
       "    <tr>\n",
       "      <th>W000802</th>\n",
       "      <td>-0.359</td>\n",
       "      <td>13.0</td>\n",
       "      <td>580.0</td>\n",
       "      <td>47.0</td>\n",
       "      <td>1.0</td>\n",
       "      <td>8.10</td>\n",
       "      <td>94.04</td>\n",
       "      <td>5.96</td>\n",
       "      <td>1.0</td>\n",
       "      <td>1.0</td>\n",
       "      <td>0.0</td>\n",
       "      <td>0.0</td>\n",
       "      <td>1.0</td>\n",
       "      <td>1955.0</td>\n",
       "    </tr>\n",
       "    <tr>\n",
       "      <th>W000437</th>\n",
       "      <td>0.376</td>\n",
       "      <td>13.0</td>\n",
       "      <td>580.0</td>\n",
       "      <td>1.0</td>\n",
       "      <td>0.0</td>\n",
       "      <td>0.17</td>\n",
       "      <td>98.43</td>\n",
       "      <td>1.57</td>\n",
       "      <td>1.0</td>\n",
       "      <td>0.0</td>\n",
       "      <td>0.0</td>\n",
       "      <td>1.0</td>\n",
       "      <td>1.0</td>\n",
       "      <td>1951.0</td>\n",
       "    </tr>\n",
       "    <tr>\n",
       "      <th>W000779</th>\n",
       "      <td>-0.328</td>\n",
       "      <td>24.0</td>\n",
       "      <td>580.0</td>\n",
       "      <td>10.0</td>\n",
       "      <td>1.0</td>\n",
       "      <td>1.72</td>\n",
       "      <td>85.48</td>\n",
       "      <td>14.52</td>\n",
       "      <td>1.0</td>\n",
       "      <td>1.0</td>\n",
       "      <td>0.0</td>\n",
       "      <td>0.0</td>\n",
       "      <td>1.0</td>\n",
       "      <td>1949.0</td>\n",
       "    </tr>\n",
       "    <tr>\n",
       "      <th>Y000064</th>\n",
       "      <td>0.474</td>\n",
       "      <td>3.0</td>\n",
       "      <td>580.0</td>\n",
       "      <td>8.0</td>\n",
       "      <td>0.0</td>\n",
       "      <td>1.38</td>\n",
       "      <td>94.19</td>\n",
       "      <td>5.81</td>\n",
       "      <td>1.0</td>\n",
       "      <td>0.0</td>\n",
       "      <td>0.0</td>\n",
       "      <td>1.0</td>\n",
       "      <td>1.0</td>\n",
       "      <td>1972.0</td>\n",
       "    </tr>\n",
       "  </tbody>\n",
       "</table>\n",
       "<p>537 rows × 14 columns</p>\n",
       "</div>"
      ],
      "text/plain": [
       "         dw_nominate  seniority  total_votes  missed_votes  total_present  \\\n",
       "id                                                                          \n",
       "A000374        0.540        6.0        879.0         312.0            0.0   \n",
       "A000370       -0.465        8.0        879.0          26.0            0.0   \n",
       "A000055        0.368       24.0        879.0          41.0            0.0   \n",
       "A000371       -0.291        6.0        879.0           8.0            0.0   \n",
       "A000372        0.678        6.0        879.0           2.0            0.0   \n",
       "...              ...        ...          ...           ...            ...   \n",
       "W000817       -0.769        7.0        580.0         275.0            1.0   \n",
       "W000802       -0.359       13.0        580.0          47.0            1.0   \n",
       "W000437        0.376       13.0        580.0           1.0            0.0   \n",
       "W000779       -0.328       24.0        580.0          10.0            1.0   \n",
       "Y000064        0.474        3.0        580.0           8.0            0.0   \n",
       "\n",
       "         missed_votes_pct  votes_with_party_pct  votes_against_party_pct  \\\n",
       "id                                                                         \n",
       "A000374             35.49                 94.84                     4.98   \n",
       "A000370              2.96                 99.18                     0.71   \n",
       "A000055              4.66                 93.50                     6.38   \n",
       "A000371              0.91                 97.24                     2.65   \n",
       "A000372              0.23                 92.29                     7.59   \n",
       "...                   ...                   ...                      ...   \n",
       "W000817             47.41                 77.78                    22.22   \n",
       "W000802              8.10                 94.04                     5.96   \n",
       "W000437              0.17                 98.43                     1.57   \n",
       "W000779              1.72                 85.48                    14.52   \n",
       "Y000064              1.38                 94.19                     5.81   \n",
       "\n",
       "         chamber  democrat  independent  republican  gender  date_of_birth  \n",
       "id                                                                          \n",
       "A000374      0.0       0.0          0.0         1.0     1.0         1954.0  \n",
       "A000370      0.0       1.0          0.0         0.0     0.0         1946.0  \n",
       "A000055      0.0       0.0          0.0         1.0     1.0         1965.0  \n",
       "A000371      0.0       1.0          0.0         0.0     1.0         1979.0  \n",
       "A000372      0.0       0.0          0.0         1.0     1.0         1951.0  \n",
       "...          ...       ...          ...         ...     ...            ...  \n",
       "W000817      1.0       1.0          0.0         0.0     0.0         1949.0  \n",
       "W000802      1.0       1.0          0.0         0.0     1.0         1955.0  \n",
       "W000437      1.0       0.0          0.0         1.0     1.0         1951.0  \n",
       "W000779      1.0       1.0          0.0         0.0     1.0         1949.0  \n",
       "Y000064      1.0       0.0          0.0         1.0     1.0         1972.0  \n",
       "\n",
       "[537 rows x 14 columns]"
      ]
     },
     "execution_count": 1,
     "metadata": {},
     "output_type": "execute_result"
    }
   ],
   "source": [
    "import pickle\n",
    "import pandas as pd\n",
    "from sklearn.preprocessing import OneHotEncoder\n",
    "from datetime import datetime\n",
    "\n",
    "with open('representatives.pkl', 'rb') as f: \n",
    "    reps_orig = pd.DataFrame(pickle.load(f))\n",
    "    \n",
    "with open('senators.pkl', 'rb') as f: \n",
    "    sens_orig = pd.DataFrame(pickle.load(f))\n",
    "    \n",
    "\n",
    "fields = ['id', 'in_office', 'date_of_birth', 'gender', 'party', 'dw_nominate', 'seniority', 'total_votes',\n",
    "          'missed_votes', 'total_present', 'missed_votes_pct', 'votes_with_party_pct', 'votes_against_party_pct']\n",
    "\n",
    "reps = reps_orig[fields].copy()\n",
    "sens = sens_orig[fields].copy()\n",
    "\n",
    "reps['chamber'] = 0.\n",
    "sens['chamber'] = 1.\n",
    "\n",
    "reps = reps.set_index('id')\n",
    "sens = sens.set_index('id')\n",
    "\n",
    "reps = reps[reps['in_office'] == True]\n",
    "sens = sens[sens['in_office'] == True]\n",
    "\n",
    "\n",
    "reps_party_df = pd.DataFrame(\n",
    "    columns=['democrat', 'independent', 'republican'],\n",
    "    index=reps.index,\n",
    "    data=OneHotEncoder().fit_transform(reps[['party']]).toarray())\n",
    "\n",
    "sens_party_df = pd.DataFrame(\n",
    "    columns=['democrat', 'independent', 'republican'],\n",
    "    index=sens.index,\n",
    "    data=OneHotEncoder().fit_transform(sens[['party']]).toarray())\n",
    "\n",
    "reps = pd.concat([reps, reps_party_df], axis=1)\n",
    "sens = pd.concat([sens, sens_party_df], axis=1)\n",
    "\n",
    "reps = reps.rename(columns={'gender': 'gender0', 'date_of_birth': 'date_of_birth0'})\n",
    "reps['gender'] = reps.apply(lambda x: 0. if x['gender0'] == 'F' else 1., axis=1)\n",
    "reps['date_of_birth'] = reps.apply(lambda x: int(x['date_of_birth0'][:4]), axis=1)\n",
    "reps = reps.drop(columns=['in_office', 'party', 'gender0', 'date_of_birth0'])\n",
    "\n",
    "sens = sens.rename(columns={'gender': 'gender0', 'date_of_birth': 'date_of_birth0'})\n",
    "sens['gender'] = sens.apply(lambda x: 0. if x['gender0'] == 'F' else 1., axis=1)\n",
    "sens['date_of_birth'] = sens.apply(lambda x:  int(x['date_of_birth0'][:4]), axis=1)\n",
    "sens = sens.drop(columns=['in_office', 'party', 'gender0', 'date_of_birth0'])\n",
    "\n",
    "data = pd.concat([reps, sens])\n",
    "data = data.astype('float64')\n",
    "data"
   ]
  },
  {
   "cell_type": "markdown",
   "metadata": {},
   "source": [
    "Check for and take care of null values in the dataset."
   ]
  },
  {
   "cell_type": "code",
   "execution_count": 2,
   "metadata": {},
   "outputs": [
    {
     "data": {
      "text/plain": [
       "109"
      ]
     },
     "execution_count": 2,
     "metadata": {},
     "output_type": "execute_result"
    }
   ],
   "source": [
    "data.isnull().sum().sum()"
   ]
  },
  {
   "cell_type": "code",
   "execution_count": 3,
   "metadata": {},
   "outputs": [
    {
     "data": {
      "text/plain": [
       "dw_nominate                428\n",
       "seniority                  537\n",
       "total_votes                537\n",
       "missed_votes               537\n",
       "total_present              537\n",
       "missed_votes_pct           537\n",
       "votes_with_party_pct       537\n",
       "votes_against_party_pct    537\n",
       "chamber                    537\n",
       "democrat                   537\n",
       "independent                537\n",
       "republican                 537\n",
       "gender                     537\n",
       "date_of_birth              537\n",
       "dtype: int64"
      ]
     },
     "execution_count": 3,
     "metadata": {},
     "output_type": "execute_result"
    }
   ],
   "source": [
    "data.count()"
   ]
  },
  {
   "cell_type": "code",
   "execution_count": 4,
   "metadata": {},
   "outputs": [],
   "source": [
    "fill_val = data['dw_nominate'].mean()\n",
    "data.loc[:, 'dw_nominate'] = data['dw_nominate'].fillna(fill_val)"
   ]
  },
  {
   "cell_type": "code",
   "execution_count": 5,
   "metadata": {},
   "outputs": [
    {
     "data": {
      "text/plain": [
       "0"
      ]
     },
     "execution_count": 5,
     "metadata": {},
     "output_type": "execute_result"
    }
   ],
   "source": [
    "data.isnull().sum().sum()"
   ]
  },
  {
   "cell_type": "markdown",
   "metadata": {},
   "source": [
    "Get a feel for the distribution of each feature in the dataset."
   ]
  },
  {
   "cell_type": "code",
   "execution_count": 6,
   "metadata": {},
   "outputs": [
    {
     "data": {
      "text/html": [
       "<div>\n",
       "<style scoped>\n",
       "    .dataframe tbody tr th:only-of-type {\n",
       "        vertical-align: middle;\n",
       "    }\n",
       "\n",
       "    .dataframe tbody tr th {\n",
       "        vertical-align: top;\n",
       "    }\n",
       "\n",
       "    .dataframe thead th {\n",
       "        text-align: right;\n",
       "    }\n",
       "</style>\n",
       "<table border=\"1\" class=\"dataframe\">\n",
       "  <thead>\n",
       "    <tr style=\"text-align: right;\">\n",
       "      <th></th>\n",
       "      <th>dw_nominate</th>\n",
       "      <th>seniority</th>\n",
       "      <th>total_votes</th>\n",
       "      <th>missed_votes</th>\n",
       "      <th>total_present</th>\n",
       "      <th>missed_votes_pct</th>\n",
       "      <th>votes_with_party_pct</th>\n",
       "      <th>votes_against_party_pct</th>\n",
       "      <th>chamber</th>\n",
       "      <th>democrat</th>\n",
       "      <th>independent</th>\n",
       "      <th>republican</th>\n",
       "      <th>gender</th>\n",
       "      <th>date_of_birth</th>\n",
       "    </tr>\n",
       "  </thead>\n",
       "  <tbody>\n",
       "    <tr>\n",
       "      <th>count</th>\n",
       "      <td>537.000000</td>\n",
       "      <td>537.000000</td>\n",
       "      <td>537.000000</td>\n",
       "      <td>537.000000</td>\n",
       "      <td>537.000000</td>\n",
       "      <td>537.000000</td>\n",
       "      <td>537.000000</td>\n",
       "      <td>537.000000</td>\n",
       "      <td>537.000000</td>\n",
       "      <td>537.000000</td>\n",
       "      <td>537.000000</td>\n",
       "      <td>537.000000</td>\n",
       "      <td>537.000000</td>\n",
       "      <td>537.000000</td>\n",
       "    </tr>\n",
       "    <tr>\n",
       "      <th>mean</th>\n",
       "      <td>0.044671</td>\n",
       "      <td>10.476723</td>\n",
       "      <td>805.625698</td>\n",
       "      <td>30.828678</td>\n",
       "      <td>0.206704</td>\n",
       "      <td>4.130540</td>\n",
       "      <td>94.421899</td>\n",
       "      <td>5.483073</td>\n",
       "      <td>0.186220</td>\n",
       "      <td>0.523277</td>\n",
       "      <td>0.005587</td>\n",
       "      <td>0.471136</td>\n",
       "      <td>0.756052</td>\n",
       "      <td>1960.096834</td>\n",
       "    </tr>\n",
       "    <tr>\n",
       "      <th>std</th>\n",
       "      <td>0.408041</td>\n",
       "      <td>8.959065</td>\n",
       "      <td>151.849160</td>\n",
       "      <td>57.125553</td>\n",
       "      <td>0.826402</td>\n",
       "      <td>8.398267</td>\n",
       "      <td>5.436472</td>\n",
       "      <td>5.448501</td>\n",
       "      <td>0.389647</td>\n",
       "      <td>0.499924</td>\n",
       "      <td>0.074604</td>\n",
       "      <td>0.499632</td>\n",
       "      <td>0.429862</td>\n",
       "      <td>11.788003</td>\n",
       "    </tr>\n",
       "    <tr>\n",
       "      <th>min</th>\n",
       "      <td>-0.769000</td>\n",
       "      <td>1.000000</td>\n",
       "      <td>35.000000</td>\n",
       "      <td>0.000000</td>\n",
       "      <td>0.000000</td>\n",
       "      <td>0.000000</td>\n",
       "      <td>58.650000</td>\n",
       "      <td>0.000000</td>\n",
       "      <td>0.000000</td>\n",
       "      <td>0.000000</td>\n",
       "      <td>0.000000</td>\n",
       "      <td>0.000000</td>\n",
       "      <td>0.000000</td>\n",
       "      <td>1933.000000</td>\n",
       "    </tr>\n",
       "    <tr>\n",
       "      <th>25%</th>\n",
       "      <td>-0.351000</td>\n",
       "      <td>4.000000</td>\n",
       "      <td>879.000000</td>\n",
       "      <td>6.000000</td>\n",
       "      <td>0.000000</td>\n",
       "      <td>0.690000</td>\n",
       "      <td>92.730000</td>\n",
       "      <td>1.550000</td>\n",
       "      <td>0.000000</td>\n",
       "      <td>0.000000</td>\n",
       "      <td>0.000000</td>\n",
       "      <td>0.000000</td>\n",
       "      <td>1.000000</td>\n",
       "      <td>1951.000000</td>\n",
       "    </tr>\n",
       "    <tr>\n",
       "      <th>50%</th>\n",
       "      <td>0.044671</td>\n",
       "      <td>8.000000</td>\n",
       "      <td>879.000000</td>\n",
       "      <td>15.000000</td>\n",
       "      <td>0.000000</td>\n",
       "      <td>1.820000</td>\n",
       "      <td>95.900000</td>\n",
       "      <td>4.030000</td>\n",
       "      <td>0.000000</td>\n",
       "      <td>1.000000</td>\n",
       "      <td>0.000000</td>\n",
       "      <td>0.000000</td>\n",
       "      <td>1.000000</td>\n",
       "      <td>1960.000000</td>\n",
       "    </tr>\n",
       "    <tr>\n",
       "      <th>75%</th>\n",
       "      <td>0.429000</td>\n",
       "      <td>14.000000</td>\n",
       "      <td>879.000000</td>\n",
       "      <td>31.000000</td>\n",
       "      <td>0.000000</td>\n",
       "      <td>3.870000</td>\n",
       "      <td>98.350000</td>\n",
       "      <td>7.160000</td>\n",
       "      <td>0.000000</td>\n",
       "      <td>1.000000</td>\n",
       "      <td>0.000000</td>\n",
       "      <td>1.000000</td>\n",
       "      <td>1.000000</td>\n",
       "      <td>1969.000000</td>\n",
       "    </tr>\n",
       "    <tr>\n",
       "      <th>max</th>\n",
       "      <td>0.916000</td>\n",
       "      <td>48.000000</td>\n",
       "      <td>882.000000</td>\n",
       "      <td>803.000000</td>\n",
       "      <td>14.000000</td>\n",
       "      <td>91.350000</td>\n",
       "      <td>99.570000</td>\n",
       "      <td>41.350000</td>\n",
       "      <td>1.000000</td>\n",
       "      <td>1.000000</td>\n",
       "      <td>1.000000</td>\n",
       "      <td>1.000000</td>\n",
       "      <td>1.000000</td>\n",
       "      <td>1989.000000</td>\n",
       "    </tr>\n",
       "  </tbody>\n",
       "</table>\n",
       "</div>"
      ],
      "text/plain": [
       "       dw_nominate   seniority  total_votes  missed_votes  total_present  \\\n",
       "count   537.000000  537.000000   537.000000    537.000000     537.000000   \n",
       "mean      0.044671   10.476723   805.625698     30.828678       0.206704   \n",
       "std       0.408041    8.959065   151.849160     57.125553       0.826402   \n",
       "min      -0.769000    1.000000    35.000000      0.000000       0.000000   \n",
       "25%      -0.351000    4.000000   879.000000      6.000000       0.000000   \n",
       "50%       0.044671    8.000000   879.000000     15.000000       0.000000   \n",
       "75%       0.429000   14.000000   879.000000     31.000000       0.000000   \n",
       "max       0.916000   48.000000   882.000000    803.000000      14.000000   \n",
       "\n",
       "       missed_votes_pct  votes_with_party_pct  votes_against_party_pct  \\\n",
       "count        537.000000            537.000000               537.000000   \n",
       "mean           4.130540             94.421899                 5.483073   \n",
       "std            8.398267              5.436472                 5.448501   \n",
       "min            0.000000             58.650000                 0.000000   \n",
       "25%            0.690000             92.730000                 1.550000   \n",
       "50%            1.820000             95.900000                 4.030000   \n",
       "75%            3.870000             98.350000                 7.160000   \n",
       "max           91.350000             99.570000                41.350000   \n",
       "\n",
       "          chamber    democrat  independent  republican      gender  \\\n",
       "count  537.000000  537.000000   537.000000  537.000000  537.000000   \n",
       "mean     0.186220    0.523277     0.005587    0.471136    0.756052   \n",
       "std      0.389647    0.499924     0.074604    0.499632    0.429862   \n",
       "min      0.000000    0.000000     0.000000    0.000000    0.000000   \n",
       "25%      0.000000    0.000000     0.000000    0.000000    1.000000   \n",
       "50%      0.000000    1.000000     0.000000    0.000000    1.000000   \n",
       "75%      0.000000    1.000000     0.000000    1.000000    1.000000   \n",
       "max      1.000000    1.000000     1.000000    1.000000    1.000000   \n",
       "\n",
       "       date_of_birth  \n",
       "count     537.000000  \n",
       "mean     1960.096834  \n",
       "std        11.788003  \n",
       "min      1933.000000  \n",
       "25%      1951.000000  \n",
       "50%      1960.000000  \n",
       "75%      1969.000000  \n",
       "max      1989.000000  "
      ]
     },
     "execution_count": 6,
     "metadata": {},
     "output_type": "execute_result"
    }
   ],
   "source": [
    "data.describe()"
   ]
  },
  {
   "cell_type": "markdown",
   "metadata": {},
   "source": [
    "### _CLUSTER_"
   ]
  },
  {
   "cell_type": "markdown",
   "metadata": {},
   "source": [
    "Scale the data in preparation for clustering."
   ]
  },
  {
   "cell_type": "code",
   "execution_count": 7,
   "metadata": {},
   "outputs": [],
   "source": [
    "import sklearn.preprocessing as preprocessing\n",
    "data_scaled = preprocessing.minmax_scale(data)"
   ]
  },
  {
   "cell_type": "markdown",
   "metadata": {},
   "source": [
    "Get a feel for how much variance in the dataset can be explained by orthogonal components."
   ]
  },
  {
   "cell_type": "markdown",
   "metadata": {},
   "source": [
    "Luckily, there appears to be an elbow at 2 componenets. This help greatly in visualizing the results of each iteration and narrowing down a good number of well-defined clusters. "
   ]
  },
  {
   "cell_type": "code",
   "execution_count": 8,
   "metadata": {},
   "outputs": [
    {
     "data": {
      "image/png": "[encoded data removed]",
      "text/plain": [
       "<Figure size 432x288 with 1 Axes>"
      ]
     },
     "metadata": {
      "needs_background": "light"
     },
     "output_type": "display_data"
    }
   ],
   "source": [
    "from sklearn.decomposition import PCA\n",
    "import matplotlib.pyplot as plt\n",
    "import numpy as np\n",
    "\n",
    "pca = PCA().fit(data_scaled)\n",
    "plt.plot(np.cumsum(pca.explained_variance_ratio_))\n",
    "plt.xlabel('number of components')\n",
    "plt.ylabel('cumulative explained variance');\n",
    "plt.show()"
   ]
  },
  {
   "cell_type": "markdown",
   "metadata": {},
   "source": [
    "Cluster."
   ]
  },
  {
   "cell_type": "code",
   "execution_count": 9,
   "metadata": {},
   "outputs": [],
   "source": [
    "import sklearn.cluster as cluster\n",
    "\n",
    "kmeans_clustering = cluster.KMeans(n_clusters=8).fit(data_scaled)\n",
    "dbscan_clustering = cluster.DBSCAN().fit(data_scaled)\n",
    "spectr_clustering = cluster.SpectralClustering(random_state=0).fit(data_scaled)"
   ]
  },
  {
   "cell_type": "code",
   "execution_count": 10,
   "metadata": {
    "scrolled": true
   },
   "outputs": [
    {
     "name": "stdout",
     "output_type": "stream",
     "text": [
      "Counter({1: 186, 2: 146, 0: 90, 3: 44, 4: 30, 6: 17, 5: 15, 7: 9})\n",
      "Counter({0: 181, 2: 142, 1: 86, 4: 44, 6: 27, -1: 24, 3: 13, 5: 12, 7: 8})\n",
      "Counter({0: 186, 6: 146, 3: 90, 5: 44, 4: 30, 2: 17, 1: 15, 7: 9})\n"
     ]
    }
   ],
   "source": [
    "from collections import Counter\n",
    "print(Counter(kmeans_clustering.labels_))\n",
    "print(Counter(dbscan_clustering.labels_))\n",
    "print(Counter(spectr_clustering.labels_))"
   ]
  },
  {
   "cell_type": "code",
   "execution_count": 11,
   "metadata": {},
   "outputs": [
    {
     "data": {
      "text/plain": [
       "Text(0.5, 1.0, 'KMeans Plot on 2 Dimensions')"
      ]
     },
     "execution_count": 11,
     "metadata": {},
     "output_type": "execute_result"
    },
    {
     "data": {
      "image/png": "[encoded data removed]",
      "text/plain": [
       "<Figure size 576x576 with 1 Axes>"
      ]
     },
     "metadata": {
      "needs_background": "light"
     },
     "output_type": "display_data"
    }
   ],
   "source": [
    "X = PCA(n_components=2).fit_transform(data_scaled)\n",
    "plt.figure(figsize=(8, 8))\n",
    "for xy in X:\n",
    "    plt.plot(xy[0],\n",
    "             xy[1],\n",
    "             'o',\n",
    "             markerfacecolor='b',\n",
    "             markeredgecolor='k', \n",
    "             markersize=6)\n",
    "\n",
    "plt.title('KMeans Plot on 2 Dimensions')\n"
   ]
  },
  {
   "cell_type": "code",
   "execution_count": 12,
   "metadata": {},
   "outputs": [
    {
     "name": "stdout",
     "output_type": "stream",
     "text": [
      "0.5811330547436199\n",
      "0.6087764396790916\n",
      "0.5811330547436199\n"
     ]
    }
   ],
   "source": [
    "from sklearn import metrics\n",
    "\n",
    "dbscan_data = data_scaled[dbscan_clustering.labels_ != -1]\n",
    "dbscan_labels = dbscan_clustering.labels_[dbscan_clustering.labels_ != -1]\n",
    "\n",
    "print(metrics.silhouette_score(data_scaled, kmeans_clustering.labels_, metric='euclidean'))\n",
    "print(metrics.silhouette_score(dbscan_data, dbscan_labels, metric='euclidean'))\n",
    "print(metrics.silhouette_score(data_scaled, spectr_clustering.labels_, metric='euclidean'))"
   ]
  },
  {
   "cell_type": "code",
   "execution_count": 13,
   "metadata": {},
   "outputs": [
    {
     "name": "stdout",
     "output_type": "stream",
     "text": [
      "434.4988653160144\n",
      "554.2819127244551\n",
      "434.49886531601436\n"
     ]
    }
   ],
   "source": [
    "print(metrics.calinski_harabasz_score(data_scaled, kmeans_clustering.labels_))\n",
    "print(metrics.calinski_harabasz_score(dbscan_data, dbscan_labels))\n",
    "print(metrics.calinski_harabasz_score(data_scaled, spectr_clustering.labels_))"
   ]
  },
  {
   "cell_type": "code",
   "execution_count": 14,
   "metadata": {},
   "outputs": [
    {
     "name": "stdout",
     "output_type": "stream",
     "text": [
      "0.7056668139123196\n",
      "0.5794898046550441\n",
      "0.7056668139123196\n"
     ]
    }
   ],
   "source": [
    "print(metrics.davies_bouldin_score(data_scaled, kmeans_clustering.labels_))\n",
    "print(metrics.davies_bouldin_score(dbscan_data, dbscan_labels))\n",
    "print(metrics.davies_bouldin_score(data_scaled, spectr_clustering.labels_))"
   ]
  },
  {
   "cell_type": "markdown",
   "metadata": {},
   "source": [
    "Visualize the clustering."
   ]
  },
  {
   "cell_type": "code",
   "execution_count": 15,
   "metadata": {},
   "outputs": [],
   "source": [
    "def plot_cluster(XY, labels, name): \n",
    "    unique_labels = set(labels)\n",
    "    n_clusters = len(unique_labels)\n",
    "    colors = [plt.cm.Spectral(each) for each in np.linspace(0, 1, len(unique_labels))]\n",
    "    \n",
    "    if any([x == -1 for x in unique_labels]):\n",
    "        n_clusters = n_clusters - 1\n",
    "    \n",
    "    plt.figure(figsize=(9, 7))\n",
    "    for k, col in zip(unique_labels, colors):\n",
    "        if k == -1:\n",
    "            col = [0, 0, 0, 1]\n",
    "\n",
    "        class_member_mask = (labels == k)\n",
    "        xy = XY[class_member_mask]\n",
    "        plt.plot(xy[:, 0],\n",
    "                 xy[:, 1],\n",
    "                 'o',\n",
    "                 markerfacecolor=tuple(col),\n",
    "                 markeredgecolor='k', \n",
    "                 markersize=6)\n",
    "    plt.title(name + ' ' + 'Estimated number of clusters: %d' % n_clusters)\n",
    "    plt.show()"
   ]
  },
  {
   "cell_type": "code",
   "execution_count": 16,
   "metadata": {},
   "outputs": [],
   "source": [
    "XY = PCA(n_components=2).fit_transform(data_scaled)"
   ]
  },
  {
   "cell_type": "code",
   "execution_count": 17,
   "metadata": {
    "scrolled": false
   },
   "outputs": [
    {
     "data": {
      "image/png": "[encoded data removed]",
      "text/plain": [
       "<Figure size 648x504 with 1 Axes>"
      ]
     },
     "metadata": {
      "needs_background": "light"
     },
     "output_type": "display_data"
    }
   ],
   "source": [
    "plot_cluster(XY, dbscan_clustering.labels_, 'DBSCAN')"
   ]
  },
  {
   "cell_type": "code",
   "execution_count": 18,
   "metadata": {
    "scrolled": false
   },
   "outputs": [
    {
     "data": {
      "image/png": "[encoded data removed]",
      "text/plain": [
       "<Figure size 648x504 with 1 Axes>"
      ]
     },
     "metadata": {
      "needs_background": "light"
     },
     "output_type": "display_data"
    }
   ],
   "source": [
    "plot_cluster(XY, spectr_clustering.labels_, 'Spectral Clustering')"
   ]
  },
  {
   "cell_type": "code",
   "execution_count": 19,
   "metadata": {},
   "outputs": [
    {
     "data": {
      "image/png": "[encoded data removed]",
      "text/plain": [
       "<Figure size 648x504 with 1 Axes>"
      ]
     },
     "metadata": {
      "needs_background": "light"
     },
     "output_type": "display_data"
    }
   ],
   "source": [
    "plot_cluster(XY, kmeans_clustering.labels_, 'K-Means')"
   ]
  },
  {
   "cell_type": "code",
   "execution_count": null,
   "metadata": {},
   "outputs": [],
   "source": []
  }
 ],
 "metadata": {
  "kernelspec": {
   "display_name": "Python 3",
   "language": "python",
   "name": "python3"
  },
  "language_info": {
   "codemirror_mode": {
    "name": "ipython",
    "version": 3
   },
   "file_extension": ".py",
   "mimetype": "text/x-python",
   "name": "python",
   "nbconvert_exporter": "python",
   "pygments_lexer": "ipython3",
   "version": "3.7.6"
  }
 },
 "nbformat": 4,
 "nbformat_minor": 4
}
